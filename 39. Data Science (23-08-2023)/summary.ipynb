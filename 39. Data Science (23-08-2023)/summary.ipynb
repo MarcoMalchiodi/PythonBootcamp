{
 "cells": [
  {
   "cell_type": "code",
   "execution_count": null,
   "metadata": {},
   "outputs": [],
   "source": [
    "import pandas as pd\n",
    "df = pd.read_csv('003 salaries-by-college-major.csv')"
   ]
  },
  {
   "cell_type": "code",
   "execution_count": null,
   "metadata": {},
   "outputs": [],
   "source": [
    "df.dropna() #removes NaN elements"
   ]
  },
  {
   "cell_type": "code",
   "execution_count": null,
   "metadata": {},
   "outputs": [],
   "source": [
    "df['Starting Median Salary'] #selecting a column\n",
    "df['Starting Median Salary'].max()\n",
    "\n",
    "df['Starting Median Salary'].idxmax() #returns the row index with the highest value\n",
    "df['Undergraduate Major'].loc[43] #picks the items within the row index in a specific column"
   ]
  },
  {
   "cell_type": "code",
   "execution_count": null,
   "metadata": {},
   "outputs": [],
   "source": [
    "# Adding columns\n",
    "percentile_difference = df['Mid-Career 90th Percentile Salary'] - df['Mid-Career 10th Percentile Salary']\n",
    "# We can add this to our existing dataframe with the .insert() method:\n",
    "df.insert(5, 'Spread', percentile_difference)"
   ]
  },
  {
   "cell_type": "code",
   "execution_count": null,
   "metadata": {},
   "outputs": [],
   "source": [
    "# Sorting Values\n",
    "low_risk = df.sort_values('Spread')\n",
    "low_risk[['Undergraduate Major', 'Spread']].head() #remember the double []"
   ]
  },
  {
   "cell_type": "code",
   "execution_count": null,
   "metadata": {},
   "outputs": [],
   "source": [
    "# .groupby() method allows us to manipulate data similar to a Microsoft Excel Pivot Table.\n",
    "# We can sum rows that belong to a particular category.\n",
    "df.groupby('Group').count()"
   ]
  },
  {
   "cell_type": "code",
   "execution_count": null,
   "metadata": {},
   "outputs": [],
   "source": [
    "# Changing display format\n",
    "pd.options.display.float_format = '{:,.2f}'.format "
   ]
  },
  {
   "cell_type": "code",
   "execution_count": null,
   "metadata": {},
   "outputs": [],
   "source": [
    "# Use .head(), .tail(), .shape and .columns to explore your DataFrame and find out the number \n",
    "# of rows and columns as well as the column names.\n",
    "\n",
    "# Look for NaN (not a number) values with .findna() and consider using .dropna() to clean up your DataFrame.\n",
    "\n",
    "# You can access entire columns of a DataFrame using the square bracket notation: \n",
    "# df['column name'] or df[['column name 1', 'column name 2', 'column name 3']]\n",
    "\n",
    "# You can access individual cells in a DataFrame by chaining square brackets \n",
    "# df['column name'][index] or using df['column name'].loc[index]\n",
    "\n",
    "# The largest and smallest values, as well as their positions, \n",
    "# can be found with methods like .max(), .min(), .idxmax() and .idxmin()\n",
    "\n",
    "# You can sort the DataFrame with .sort_values() and add new columns with .insert()\n",
    "\n",
    "# To create an Excel Style Pivot Table by grouping entries that belong to \n",
    "# a particular category use the .groupby() method."
   ]
  }
 ],
 "metadata": {
  "language_info": {
   "name": "python"
  },
  "orig_nbformat": 4
 },
 "nbformat": 4,
 "nbformat_minor": 2
}
