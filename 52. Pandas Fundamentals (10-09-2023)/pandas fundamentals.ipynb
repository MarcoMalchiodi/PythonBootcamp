{
 "cells": [
  {
   "cell_type": "code",
   "execution_count": 13,
   "id": "7a2dd898",
   "metadata": {},
   "outputs": [],
   "source": [
    "import pandas as pd\n",
    "df = pd.DataFrame({'stock':['Apple','Microsoft','Tesla'],\n",
    "                  'price':[150,200,180],\n",
    "                  'quantity':[10,20,10]})"
   ]
  },
  {
   "cell_type": "code",
   "execution_count": 14,
   "id": "b4a9928a",
   "metadata": {},
   "outputs": [
    {
     "data": {
      "text/html": [
       "<div>\n",
       "<style scoped>\n",
       "    .dataframe tbody tr th:only-of-type {\n",
       "        vertical-align: middle;\n",
       "    }\n",
       "\n",
       "    .dataframe tbody tr th {\n",
       "        vertical-align: top;\n",
       "    }\n",
       "\n",
       "    .dataframe thead th {\n",
       "        text-align: right;\n",
       "    }\n",
       "</style>\n",
       "<table border=\"1\" class=\"dataframe\">\n",
       "  <thead>\n",
       "    <tr style=\"text-align: right;\">\n",
       "      <th></th>\n",
       "      <th>stock</th>\n",
       "      <th>price</th>\n",
       "    </tr>\n",
       "  </thead>\n",
       "  <tbody>\n",
       "    <tr>\n",
       "      <th>1</th>\n",
       "      <td>Microsoft</td>\n",
       "      <td>200</td>\n",
       "    </tr>\n",
       "    <tr>\n",
       "      <th>2</th>\n",
       "      <td>Tesla</td>\n",
       "      <td>180</td>\n",
       "    </tr>\n",
       "  </tbody>\n",
       "</table>\n",
       "</div>"
      ],
      "text/plain": [
       "       stock  price\n",
       "1  Microsoft    200\n",
       "2      Tesla    180"
      ]
     },
     "execution_count": 14,
     "metadata": {},
     "output_type": "execute_result"
    }
   ],
   "source": [
    "df.iloc[0]\n",
    "# returns the very first row of a dataframe with all its columns\n",
    "\n",
    "df.iloc[0,0]\n",
    "# returns the first row of the first column\n",
    "\n",
    "df.iloc[1:]\n",
    "# skips to the second row\n",
    "\n",
    "df.iloc[1:,0:2]\n",
    "# skips the first row, returns the first column\n",
    "\n",
    "df.iloc[1:,0:2]\n",
    "# skips the first row, returns the first rows and two columns"
   ]
  },
  {
   "cell_type": "code",
   "execution_count": null,
   "id": "3c126164",
   "metadata": {},
   "outputs": [],
   "source": [
    "df.loc[0]\n",
    "# This time we are getting the row named 0, not the first one\n",
    "\n",
    "df.loc[0,\"stock\"]\n",
    "# This time we can specify the column by name\n",
    "\n",
    "df.loc[0:,'stock']\n",
    "# returns all rows wiithin the 'stock' column\n",
    "\n",
    "df.loc[1:1,'stock':'price']\n",
    "# 1:1 specifies a row slice from index 1 to index 1. This effectively selects only the row at index 1.\n",
    "# 'stock':'price' specifies a column slice from the 'stock' column to the 'price' column (inclusive of both columns)"
   ]
  },
  {
   "cell_type": "code",
   "execution_count": 24,
   "id": "3612629b",
   "metadata": {},
   "outputs": [
    {
     "data": {
      "text/plain": [
       "0    False\n",
       "1     True\n",
       "2     True\n",
       "Name: price, dtype: bool"
      ]
     },
     "execution_count": 24,
     "metadata": {},
     "output_type": "execute_result"
    }
   ],
   "source": [
    "# checking conditions\n",
    "df.price > 150"
   ]
  },
  {
   "cell_type": "code",
   "execution_count": 25,
   "id": "f1e5ec58",
   "metadata": {},
   "outputs": [
    {
     "data": {
      "text/html": [
       "<div>\n",
       "<style scoped>\n",
       "    .dataframe tbody tr th:only-of-type {\n",
       "        vertical-align: middle;\n",
       "    }\n",
       "\n",
       "    .dataframe tbody tr th {\n",
       "        vertical-align: top;\n",
       "    }\n",
       "\n",
       "    .dataframe thead th {\n",
       "        text-align: right;\n",
       "    }\n",
       "</style>\n",
       "<table border=\"1\" class=\"dataframe\">\n",
       "  <thead>\n",
       "    <tr style=\"text-align: right;\">\n",
       "      <th></th>\n",
       "      <th>stock</th>\n",
       "      <th>price</th>\n",
       "      <th>quantity</th>\n",
       "    </tr>\n",
       "  </thead>\n",
       "  <tbody>\n",
       "    <tr>\n",
       "      <th>1</th>\n",
       "      <td>Microsoft</td>\n",
       "      <td>200</td>\n",
       "      <td>20</td>\n",
       "    </tr>\n",
       "    <tr>\n",
       "      <th>2</th>\n",
       "      <td>Tesla</td>\n",
       "      <td>180</td>\n",
       "      <td>10</td>\n",
       "    </tr>\n",
       "  </tbody>\n",
       "</table>\n",
       "</div>"
      ],
      "text/plain": [
       "       stock  price  quantity\n",
       "1  Microsoft    200        20\n",
       "2      Tesla    180        10"
      ]
     },
     "execution_count": 25,
     "metadata": {},
     "output_type": "execute_result"
    }
   ],
   "source": [
    "df[df.price > 150]"
   ]
  },
  {
   "cell_type": "code",
   "execution_count": null,
   "id": "9932901c",
   "metadata": {},
   "outputs": [],
   "source": []
  }
 ],
 "metadata": {
  "kernelspec": {
   "display_name": "Python 3 (ipykernel)",
   "language": "python",
   "name": "python3"
  },
  "language_info": {
   "codemirror_mode": {
    "name": "ipython",
    "version": 3
   },
   "file_extension": ".py",
   "mimetype": "text/x-python",
   "name": "python",
   "nbconvert_exporter": "python",
   "pygments_lexer": "ipython3",
   "version": "3.11.4"
  }
 },
 "nbformat": 4,
 "nbformat_minor": 5
}
